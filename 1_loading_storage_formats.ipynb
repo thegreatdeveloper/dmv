{
 "cells": [
  {
   "cell_type": "code",
   "execution_count": null,
   "metadata": {},
   "outputs": [],
   "source": [
    "import pandas as pd\n",
    "import matplotlib.pyplot as plt\n",
    "import seaborn as sns"
   ]
  },
  {
   "cell_type": "code",
   "execution_count": null,
   "metadata": {},
   "outputs": [],
   "source": [
    "data = pd.read_csv(\"sales_data_sample.csv\", encoding='latin-1')\n",
    "data.head(2)"
   ]
  },
  {
   "cell_type": "code",
   "execution_count": null,
   "metadata": {},
   "outputs": [],
   "source": [
    "data.columns = data.columns.str.lower()\n",
    "data.head(2)"
   ]
  },
  {
   "cell_type": "code",
   "execution_count": null,
   "metadata": {},
   "outputs": [],
   "source": [
    "data.isnull().sum()"
   ]
  },
  {
   "cell_type": "code",
   "execution_count": null,
   "metadata": {},
   "outputs": [],
   "source": [
    "data.describe()"
   ]
  },
  {
   "cell_type": "code",
   "execution_count": null,
   "metadata": {},
   "outputs": [],
   "source": [
    "data.drop_duplicates(inplace =True)"
   ]
  },
  {
   "cell_type": "code",
   "execution_count": null,
   "metadata": {},
   "outputs": [],
   "source": [
    "data['orderdate']"
   ]
  },
  {
   "cell_type": "code",
   "execution_count": null,
   "metadata": {},
   "outputs": [],
   "source": [
    "data['orderdate'] = pd.to_datetime(data['orderdate'])\n",
    "data['orderdate']"
   ]
  },
  {
   "cell_type": "code",
   "execution_count": null,
   "metadata": {},
   "outputs": [],
   "source": [
    "data = data.dropna(subset=['productline'])"
   ]
  },
  {
   "cell_type": "code",
   "execution_count": null,
   "metadata": {},
   "outputs": [],
   "source": [
    "data_pie = data['productline'].value_counts().rename_axis('productline').reset_index(name='orders')\n",
    "\n",
    "plt.figure(figsize=(10,10))\n",
    "plt.pie(data_pie.orders, labels=data_pie.productline, startangle=-80, autopct='%.1f%%')\n",
    "plt.title('proctline of orders')\n",
    "plt.show()"
   ]
  },
  {
   "cell_type": "code",
   "execution_count": null,
   "metadata": {},
   "outputs": [],
   "source": [
    "#create 'Total_revenue' column\n",
    "data['total_revenue'] = data['quantityordered'] * data['priceeach']\n",
    "\n",
    "#extract day of the week from date\n",
    "data['day_of_week'] = data['orderdate'].dt.dayofweek"
   ]
  },
  {
   "cell_type": "code",
   "execution_count": null,
   "metadata": {},
   "outputs": [],
   "source": [
    "#Time-series plot of sales over time\n",
    "plt.figure(figsize=(10,6))\n",
    "sns.lineplot(x='orderdate',y='total_revenue',data=data)\n",
    "plt.title('sales over time')\n",
    "plt.show()\n",
    "\n",
    "#Bar plot of top-selling products\n",
    "top_products = data.groupby('productline')['total_revenue'].sum().sort_values(ascending=False).head(10)\n",
    "top_products.plot(kind='bar',title='top 10 selling products')\n",
    "plt.show()"
   ]
  },
  {
   "cell_type": "code",
   "execution_count": null,
   "metadata": {},
   "outputs": [],
   "source": [
    "#Group by month to analyze monthy sales trends\n",
    "monthly_sales = data.groupby('month_id')['total_revenue'].sum()\n",
    "\n",
    "#plot monthly sales trends\n",
    "monthly_sales.plot(kind='line', title = 'monthly sales trends')\n",
    "plt.show()"
   ]
  },
  {
   "cell_type": "code",
   "execution_count": null,
   "metadata": {},
   "outputs": [],
   "source": [
    "sum1 = data['sales'].sum()\n",
    "max1 = data['sales'].max()\n",
    "min1 = data['sales'].min()\n",
    "print('sum of sales: ' + str(sum1))\n",
    "print('max salary: ' + str(max1))\n",
    "print('min salary: ' + str(min1))"
   ]
  },
  {
   "cell_type": "code",
   "execution_count": null,
   "metadata": {},
   "outputs": [],
   "source": [
    "sns.boxplot(x = 'territory', y = 'quantityordered', data = data)"
   ]
  },
  {
   "cell_type": "code",
   "execution_count": null,
   "metadata": {},
   "outputs": [],
   "source": [
    "import json\n",
    "from IPython.display import display, JSON\n",
    "\n",
    "# Upload the JSON file\n",
    "json_file = 'sales.json'  # replace with your file name\n",
    "with open(json_file, 'r') as f:\n",
    "    data = json.load(f)\n",
    "\n",
    "# Display the JSON data\n",
    "display(JSON(data))"
   ]
  },
  {
   "cell_type": "code",
   "execution_count": null,
   "metadata": {},
   "outputs": [],
   "source": [
    "# Convert JSON data to pandas DataFrame\n",
    "df = pd.json_normalize(data)"
   ]
  },
  {
   "cell_type": "code",
   "execution_count": null,
   "metadata": {},
   "outputs": [],
   "source": [
    "print(df.columns)"
   ]
  },
  {
   "cell_type": "code",
   "execution_count": null,
   "metadata": {},
   "outputs": [],
   "source": [
    "df = pd.DataFrame(data['sales'])\n",
    "\n",
    "# Create scatter plot\n",
    "plt.figure(figsize=(10,6))\n",
    "plt.scatter(df['quantity'], df['revenue'])\n",
    "plt.xlabel('Quantity')\n",
    "plt.ylabel('Revenue')\n",
    "plt.title('Scatter Plot of Quantity vs Revenue')\n",
    "plt.show()"
   ]
  },
  {
   "cell_type": "code",
   "execution_count": null,
   "metadata": {},
   "outputs": [],
   "source": [
    "df = pd.DataFrame(data['sales'])\n",
    "\n",
    "plt.hist(df['quantity'], bins=5, edgecolor='black')\n",
    "plt.title('Histogram of Quantity')\n",
    "plt.xlabel('Quantity')\n",
    "plt.ylabel('Frequency')\n",
    "plt.show()"
   ]
  },
  {
   "cell_type": "code",
   "execution_count": null,
   "metadata": {},
   "outputs": [],
   "source": [
    "import matplotlib.pyplot as plt \n",
    "import pandas as pd \n",
    "file = pd.read_excel('Sample - Superstore.xls') \n",
    "file.head()\n",
    "df = pd.DataFrame(file)\n",
    "\n",
    "name = df['Region'].head(42)\n",
    "price = df['Discount'].head(42)\n",
    "\n",
    "# Figure Size\n",
    "fig = plt.figure(figsize =(10, 7))\n",
    "\n",
    "# Horizontal Bar Plot\n",
    "plt.bar(name[0:30], price[0:30])\n",
    "\n",
    "# Show Plot\n",
    "plt.show()"
   ]
  },
  {
   "cell_type": "code",
   "execution_count": null,
   "metadata": {},
   "outputs": [],
   "source": []
  }
 ],
 "metadata": {
  "kernelspec": {
   "display_name": "Python 3",
   "language": "python",
   "name": "python3"
  },
  "language_info": {
   "codemirror_mode": {
    "name": "ipython",
    "version": 3
   },
   "file_extension": ".py",
   "mimetype": "text/x-python",
   "name": "python",
   "nbconvert_exporter": "python",
   "pygments_lexer": "ipython3",
   "version": "3.12.4"
  }
 },
 "nbformat": 4,
 "nbformat_minor": 2
}
